{
  "nbformat": 4,
  "nbformat_minor": 0,
  "metadata": {
    "colab": {
      "name": "Untitled2.ipynb",
      "provenance": []
    },
    "kernelspec": {
      "name": "python3",
      "display_name": "Python 3"
    },
    "language_info": {
      "name": "python"
    }
  },
  "cells": [
    {
      "cell_type": "markdown",
      "source": [
        "Python is multi-paradigm programming language which supports different programming approches.\n",
        "One of the apporach is object oriented programimg. In this we take real life analogy of creating objects for solving problem. \n",
        "Like in real world here object has two characteristics\n",
        "\n",
        "\n",
        "*   Attributes\n",
        "*   Behaviour\n",
        "\n",
        "Eg A parrot is an object, with name, age, colour as attribute and singing, dancing as behaviour"
      ],
      "metadata": {
        "id": "_SAFUX35csy6"
      }
    },
    {
      "cell_type": "markdown",
      "source": [
        "**Class** is a blueprint for how object (also called instance) should be defined. For example  to set question paper we define class question"
      ],
      "metadata": {
        "id": "9WyP6fa7GAxc"
      }
    },
    {
      "cell_type": "code",
      "execution_count": 1,
      "metadata": {
        "id": "h5G_iTMTco11"
      },
      "outputs": [],
      "source": [
        "class Question:\n",
        "    def __init__(self, statement, marks):\n",
        "        self.statement = statement\n",
        "        self.marks = marks\n",
        "\n",
        "    def print_question(self):\n",
        "        print(self.statement)\n",
        "\n",
        "    def update_marks(self, marks):\n",
        "        self.marks = marks"
      ]
    },
    {
      "cell_type": "markdown",
      "source": [
        "Here question contains question statement and alloted marks. print_question and update_marks are methods used print and update marks of question"
      ],
      "metadata": {
        "id": "3gb1dDH9lVrZ"
      }
    },
    {
      "cell_type": "markdown",
      "source": [
        "We can also have sub class within question like multiple choice question"
      ],
      "metadata": {
        "id": "KXV7h3t1mNyN"
      }
    },
    {
      "cell_type": "markdown",
      "source": [
        ""
      ],
      "metadata": {
        "id": "EK3fsX45cp7k"
      }
    },
    {
      "cell_type": "code",
      "source": [
        "class MCQ(Question):\n",
        "    def __init__(self,statement,marks,ops,c_ops):\n",
        "        super().__init__(statement,marks)\n",
        "        self.ops=ops\n",
        "        self.c_ops=c_ops\n",
        "    def print_question(self):\n",
        "        super().print_question()\n",
        "        for i in range(4):\n",
        "            print(self.ops[i])"
      ],
      "metadata": {
        "id": "WKWYnBrqmIHB"
      },
      "execution_count": 2,
      "outputs": []
    },
    {
      "cell_type": "markdown",
      "source": [
        "Here MCQ Class have inherited attribute and method of parent class question "
      ],
      "metadata": {
        "id": "SvYOuD-hm2BW"
      }
    }
  ]
}